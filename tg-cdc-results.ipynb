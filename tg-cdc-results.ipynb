{
  "nbformat": 4,
  "nbformat_minor": 0,
  "metadata": {
    "colab": {
      "provenance": [],
      "authorship_tag": "ABX9TyPA7apZeFYTQyD1PU/YG2MA",
      "include_colab_link": true
    },
    "kernelspec": {
      "name": "python3",
      "display_name": "Python 3"
    },
    "language_info": {
      "name": "python"
    }
  },
  "cells": [
    {
      "cell_type": "markdown",
      "metadata": {
        "id": "view-in-github",
        "colab_type": "text"
      },
      "source": [
        "<a href=\"https://colab.research.google.com/github/hitallocavas/cdc-results/blob/main/tg-cdc-results.ipynb\" target=\"_parent\"><img src=\"https://colab.research.google.com/assets/colab-badge.svg\" alt=\"Open In Colab\"/></a>"
      ]
    },
    {
      "cell_type": "code",
      "execution_count": 19,
      "metadata": {
        "id": "D-nvShmZE90j"
      },
      "outputs": [],
      "source": [
        "# Importação dos Dados\n",
        "\n",
        "import json\n",
        "\n",
        "def import_file(filename):\n",
        "  with open(filename, 'r') as f:\n",
        "    return json.load(f)"
      ]
    },
    {
      "cell_type": "code",
      "source": [
        "# Converter em DataFrame\n",
        "\n",
        "import pandas as pd\n",
        "\n",
        "def convert_to_df(data):\n",
        "  return pd.json_normalize(data)"
      ],
      "metadata": {
        "id": "CaKw-B3NGxq2"
      },
      "execution_count": 20,
      "outputs": []
    },
    {
      "cell_type": "code",
      "source": [
        "def normalize_mongodb(df):\n",
        "  df['createdAt'] = pd.to_datetime(df['createdAt.$date'], format='mixed', utc=True)\n",
        "  df['updatedAt'] = pd.to_datetime(df['updatedAt.$date'], format='mixed', utc=True)\n",
        "  df['amount'] = df['amount.$numberDecimal'];\n",
        "  df.drop(columns=['amount.$numberDecimal'], inplace=True)"
      ],
      "metadata": {
        "id": "POpJermFJC-l"
      },
      "execution_count": 21,
      "outputs": []
    },
    {
      "cell_type": "code",
      "source": [
        "import numpy as np\n",
        "\n",
        "def compare_dataframe_fields(df1, df2, key='transactionId', fields=[], float_tolerance=0.01):\n",
        "    df = df1.merge(df2, on=key, suffixes=('_pg', '_mongo'))\n",
        "\n",
        "    df['amount_pg'] = df['amount_pg'].astype(float)\n",
        "    df['amount_mongo'] = df['amount_mongo'].astype(float)\n",
        "\n",
        "    comparisons = {}\n",
        "    for field in fields:\n",
        "        col_pg = f'{field}_pg'\n",
        "        col_mongo = f'{field}_mongo'\n",
        "\n",
        "        if np.issubdtype(df[col_pg].dtype, np.floating):\n",
        "            comparisons[field] = np.isclose(df[col_pg], df[col_mongo], atol=float_tolerance)\n",
        "        else:\n",
        "            comparisons[field] = df[col_pg] == df[col_mongo]\n",
        "\n",
        "        df[f'{field}_match'] = comparisons[field]\n",
        "\n",
        "    df['record_match'] = df[[f'{field}_match' for field in fields]].all(axis=1)\n",
        "\n",
        "    return df"
      ],
      "metadata": {
        "id": "nFMMMOHuMES5"
      },
      "execution_count": 22,
      "outputs": []
    },
    {
      "cell_type": "code",
      "source": [
        "def processar_cenario(nome_arquivo_mongo, nome_arquivo_postgres, descricao_filtro='Cenário 1 - Req'):\n",
        "    # Importa e prepara os dataframes\n",
        "    df_mongo = convert_to_df(import_file(nome_arquivo_mongo))\n",
        "    normalize_mongodb(df_mongo)\n",
        "    df_postgres = convert_to_df(import_file(nome_arquivo_postgres))\n",
        "\n",
        "    # Filtra pelas descrições desejadas\n",
        "    df_mongo = df_mongo[df_mongo['description'].str.contains(descricao_filtro, case=False, na=False)]\n",
        "    df_postgres = df_postgres[df_postgres['description'].str.contains(descricao_filtro, case=False, na=False)]\n",
        "\n",
        "    # Compara os campos especificados\n",
        "    comparado = compare_dataframe_fields(\n",
        "        df_postgres,\n",
        "        df_mongo,\n",
        "        fields=['type', 'clientId', 'amount', 'description']\n",
        "    )\n",
        "\n",
        "    # Calcula igualdade de campos\n",
        "    total = len(comparado)\n",
        "    campos_match = {}\n",
        "    for campo in ['clientId', 'type', 'amount', 'description']:\n",
        "        iguais = comparado[f'{campo}_match'].sum()\n",
        "        campos_match[campo] = {\n",
        "            'iguais': int(iguais),\n",
        "            'total': int(total),\n",
        "            'percentual': float((iguais / total) * 100)\n",
        "        }\n",
        "\n",
        "    # Calcula latência de criação\n",
        "    comparado['createdAt_pg'] = pd.to_datetime(comparado['createdAt_pg'], format='mixed', utc=True).dt.tz_convert(None)\n",
        "    comparado['createdAt_mongo'] = pd.to_datetime(comparado['createdAt_mongo'], format='mixed', utc=True).dt.tz_convert(None)\n",
        "    comparado['latency_creation'] = (comparado['createdAt_mongo'] - comparado['createdAt_pg']).dt.total_seconds() * 1000\n",
        "\n",
        "    # Calcula latência de atualização\n",
        "    comparado['updatedAt_pg'] = pd.to_datetime(comparado['updatedAt_pg'], format='mixed', utc=True).dt.tz_convert(None)\n",
        "    comparado['updatedAt_mongo'] = pd.to_datetime(comparado['updatedAt_mongo'], format='mixed', utc=True).dt.tz_convert(None)\n",
        "    comparado['latency_update'] = (comparado['updatedAt_mongo'] - comparado['updatedAt_pg']).dt.total_seconds() * 1000\n",
        "\n",
        "    # Métricas de consistência\n",
        "    total_registros = len(comparado)\n",
        "    total_consistentes = comparado['record_match'].sum()\n",
        "    total_inconsistentes = total_registros - total_consistentes\n",
        "    taxa_consistencia = (total_consistentes / total_registros) * 100\n",
        "\n",
        "    # Resumo das latências\n",
        "    def calcular_resumo_latencia(serie):\n",
        "        return {\n",
        "            'Média (ms)': serie.mean(),\n",
        "            'Mínimo (ms)': serie.min(),\n",
        "            'Máximo (ms)': serie.max(),\n",
        "            'p90 (ms)': serie.quantile(0.90),\n",
        "            'p95 (ms)': serie.quantile(0.95)\n",
        "        }\n",
        "\n",
        "    resumo_create = calcular_resumo_latencia(comparado['latency_creation'])\n",
        "    resumo_update = calcular_resumo_latencia(comparado['latency_update'])\n",
        "\n",
        "    # Retorna tudo em um dicionário\n",
        "    return {\n",
        "        'comparado': comparado,\n",
        "        'igualdade_campos': campos_match,\n",
        "        'total_registros': int(total_registros),\n",
        "        'total_consistentes': int(total_consistentes),\n",
        "        'total_inconsistentes': int(total_inconsistentes),\n",
        "        'taxa_consistencia': float(taxa_consistencia),\n",
        "        'latencia_create': resumo_create,\n",
        "        'latencia_update': resumo_update,\n",
        "        'inconsistentes': comparado[~comparado['record_match']]\n",
        "    }\n"
      ],
      "metadata": {
        "id": "dKezNKT3GMos"
      },
      "execution_count": 23,
      "outputs": []
    },
    {
      "cell_type": "code",
      "source": [
        "def print_resultados(resultados):\n",
        "    print(\"==== RESULTADOS DA COMPARAÇÃO ====\\n\")\n",
        "\n",
        "    print(f\"Total de registros comparados: {resultados['total_registros']}\")\n",
        "    print(f\"Registros consistentes: {resultados['total_consistentes']}\")\n",
        "    print(f\"Registros inconsistentes: {resultados['total_inconsistentes']}\")\n",
        "    print(f\"Taxa de consistência: {resultados['taxa_consistencia']:.2f}%\\n\")\n",
        "\n",
        "    print(\"==== IGUALDADE DOS CAMPOS ====\")\n",
        "    for campo, dados in resultados['igualdade_campos'].items():\n",
        "        print(f\"{campo}: {dados['iguais']} iguais de {dados['total']} \"\n",
        "              f\"({dados['percentual']:.2f}%)\")\n",
        "    print()\n",
        "\n",
        "    print(\"==== LATÊNCIA DE CRIAÇÃO ====\")\n",
        "    for chave, valor in resultados['latencia_create'].items():\n",
        "        print(f\"{chave}: {valor:.2f} ms\")\n",
        "    print()\n",
        "\n",
        "    print(\"==== LATÊNCIA DE ATUALIZAÇÃO ====\")\n",
        "    for chave, valor in resultados['latencia_update'].items():\n",
        "        print(f\"{chave}: {valor:.2f} ms\")\n",
        "    print()\n",
        "\n",
        "    if not resultados['inconsistentes'].empty:\n",
        "        print(\"==== EXEMPLO DE REGISTROS INCONSISTENTES ====\")\n",
        "        display(resultados['inconsistentes'].head())\n",
        "    else:\n",
        "        print(\"Todos os registros estão consistentes.\\n\")"
      ],
      "metadata": {
        "id": "ELCiRgXhdFDO"
      },
      "execution_count": 24,
      "outputs": []
    },
    {
      "cell_type": "code",
      "source": [
        "resultados_cenario1 = processar_cenario('mongodb.json', 'postgres.json')\n",
        "print_resultados(resultados_cenario1)"
      ],
      "metadata": {
        "colab": {
          "base_uri": "https://localhost:8080/"
        },
        "id": "zin0MMKmdK91",
        "outputId": "f7e59c8a-e448-4219-defb-2ef868adc60e"
      },
      "execution_count": 28,
      "outputs": [
        {
          "output_type": "stream",
          "name": "stdout",
          "text": [
            "==== RESULTADOS DA COMPARAÇÃO ====\n",
            "\n",
            "Total de registros comparados: 68\n",
            "Registros consistentes: 68\n",
            "Registros inconsistentes: 0\n",
            "Taxa de consistência: 100.00%\n",
            "\n",
            "==== IGUALDADE DOS CAMPOS ====\n",
            "clientId: 68 iguais de 68 (100.00%)\n",
            "type: 68 iguais de 68 (100.00%)\n",
            "amount: 68 iguais de 68 (100.00%)\n",
            "description: 68 iguais de 68 (100.00%)\n",
            "\n",
            "==== LATÊNCIA DE CRIAÇÃO ====\n",
            "Média (ms): 479.97 ms\n",
            "Mínimo (ms): 91.13 ms\n",
            "Máximo (ms): 924.12 ms\n",
            "p90 (ms): 657.65 ms\n",
            "p95 (ms): 711.79 ms\n",
            "\n",
            "==== LATÊNCIA DE ATUALIZAÇÃO ====\n",
            "Média (ms): 579.89 ms\n",
            "Mínimo (ms): 209.78 ms\n",
            "Máximo (ms): 919.88 ms\n",
            "p90 (ms): 840.38 ms\n",
            "p95 (ms): 856.26 ms\n",
            "\n",
            "Todos os registros estão consistentes.\n",
            "\n"
          ]
        }
      ]
    },
    {
      "cell_type": "code",
      "source": [
        "resultados_cenario2 = processar_cenario('mongodb.json', 'postgres.json', \"Cenário 2 - Req\")\n",
        "print_resultados(resultados_cenario2)"
      ],
      "metadata": {
        "colab": {
          "base_uri": "https://localhost:8080/"
        },
        "id": "tuzKS0J9hCha",
        "outputId": "67880512-e932-4615-ae64-a6b9fcca9c5f"
      },
      "execution_count": 26,
      "outputs": [
        {
          "output_type": "stream",
          "name": "stdout",
          "text": [
            "==== RESULTADOS DA COMPARAÇÃO ====\n",
            "\n",
            "Total de registros comparados: 290\n",
            "Registros consistentes: 290\n",
            "Registros inconsistentes: 0\n",
            "Taxa de consistência: 100.00%\n",
            "\n",
            "==== IGUALDADE DOS CAMPOS ====\n",
            "clientId: 290 iguais de 290 (100.00%)\n",
            "type: 290 iguais de 290 (100.00%)\n",
            "amount: 290 iguais de 290 (100.00%)\n",
            "description: 290 iguais de 290 (100.00%)\n",
            "\n",
            "==== LATÊNCIA DE CRIAÇÃO ====\n",
            "Média (ms): 542.25 ms\n",
            "Mínimo (ms): 184.92 ms\n",
            "Máximo (ms): 967.31 ms\n",
            "p90 (ms): 787.02 ms\n",
            "p95 (ms): 864.16 ms\n",
            "\n",
            "==== LATÊNCIA DE ATUALIZAÇÃO ====\n",
            "Média (ms): 546.10 ms\n",
            "Mínimo (ms): 88.39 ms\n",
            "Máximo (ms): 965.98 ms\n",
            "p90 (ms): 793.28 ms\n",
            "p95 (ms): 846.56 ms\n",
            "\n",
            "Todos os registros estão consistentes.\n",
            "\n"
          ]
        }
      ]
    },
    {
      "cell_type": "code",
      "source": [
        "resultados_cenario3 = processar_cenario('mongodb.json', 'postgres.json', \"Cenário 3 - Req\")\n",
        "print_resultados(resultados_cenario3)"
      ],
      "metadata": {
        "colab": {
          "base_uri": "https://localhost:8080/"
        },
        "id": "LdlVv4-al2N8",
        "outputId": "c4370fa5-0b22-4f6a-e9f8-b717fdc1425f"
      },
      "execution_count": 27,
      "outputs": [
        {
          "output_type": "stream",
          "name": "stdout",
          "text": [
            "==== RESULTADOS DA COMPARAÇÃO ====\n",
            "\n",
            "Total de registros comparados: 273\n",
            "Registros consistentes: 273\n",
            "Registros inconsistentes: 0\n",
            "Taxa de consistência: 100.00%\n",
            "\n",
            "==== IGUALDADE DOS CAMPOS ====\n",
            "clientId: 273 iguais de 273 (100.00%)\n",
            "type: 273 iguais de 273 (100.00%)\n",
            "amount: 273 iguais de 273 (100.00%)\n",
            "description: 273 iguais de 273 (100.00%)\n",
            "\n",
            "==== LATÊNCIA DE CRIAÇÃO ====\n",
            "Média (ms): 486.79 ms\n",
            "Mínimo (ms): 35.72 ms\n",
            "Máximo (ms): 941.69 ms\n",
            "p90 (ms): 744.14 ms\n",
            "p95 (ms): 835.27 ms\n",
            "\n",
            "==== LATÊNCIA DE ATUALIZAÇÃO ====\n",
            "Média (ms): 463.03 ms\n",
            "Mínimo (ms): 20.47 ms\n",
            "Máximo (ms): 963.43 ms\n",
            "p90 (ms): 752.91 ms\n",
            "p95 (ms): 822.80 ms\n",
            "\n",
            "Todos os registros estão consistentes.\n",
            "\n"
          ]
        }
      ]
    },
    {
      "cell_type": "code",
      "source": [
        "resultados_cenario4 = processar_cenario('mongodb.json', 'postgres.json', \"Cenário 4 - Req\")\n",
        "print_resultados(resultados_cenario4)"
      ],
      "metadata": {
        "colab": {
          "base_uri": "https://localhost:8080/"
        },
        "outputId": "7205d2f4-e65d-4783-8cdd-2d4fe4cf9bec",
        "id": "xTTQtg5iUKTp"
      },
      "execution_count": 29,
      "outputs": [
        {
          "output_type": "stream",
          "name": "stdout",
          "text": [
            "==== RESULTADOS DA COMPARAÇÃO ====\n",
            "\n",
            "Total de registros comparados: 1442\n",
            "Registros consistentes: 1442\n",
            "Registros inconsistentes: 0\n",
            "Taxa de consistência: 100.00%\n",
            "\n",
            "==== IGUALDADE DOS CAMPOS ====\n",
            "clientId: 1442 iguais de 1442 (100.00%)\n",
            "type: 1442 iguais de 1442 (100.00%)\n",
            "amount: 1442 iguais de 1442 (100.00%)\n",
            "description: 1442 iguais de 1442 (100.00%)\n",
            "\n",
            "==== LATÊNCIA DE CRIAÇÃO ====\n",
            "Média (ms): 496.41 ms\n",
            "Mínimo (ms): 17.91 ms\n",
            "Máximo (ms): 999.70 ms\n",
            "p90 (ms): 765.21 ms\n",
            "p95 (ms): 844.67 ms\n",
            "\n",
            "==== LATÊNCIA DE ATUALIZAÇÃO ====\n",
            "Média (ms): 497.76 ms\n",
            "Mínimo (ms): 17.12 ms\n",
            "Máximo (ms): 993.08 ms\n",
            "p90 (ms): 793.46 ms\n",
            "p95 (ms): 843.92 ms\n",
            "\n",
            "Todos os registros estão consistentes.\n",
            "\n"
          ]
        }
      ]
    }
  ]
}